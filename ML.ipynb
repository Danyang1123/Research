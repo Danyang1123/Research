{
 "cells": [
  {
   "cell_type": "code",
   "execution_count": 1,
   "metadata": {},
   "outputs": [],
   "source": [
    "from nltk.stem import WordNetLemmatizer \n",
    "lemmatizer = WordNetLemmatizer() \n",
    "\n",
    "import matplotlib.pyplot as plt\n",
    "import csv\n",
    "import os\n",
    "import pandas as pd\n",
    "import random\n",
    "\n",
    "import numpy as np\n",
    "from sklearn import model_selection, svm, naive_bayes\n",
    "from sklearn.feature_extraction.text import TfidfVectorizer, CountVectorizer,TfidfTransformer\n",
    "from sklearn.metrics import accuracy_score, classification_report\n",
    "#from keras.preprocessing import text, sequence\n",
    "#import gensim\n",
    "#from gensim.models import Word2Vec\n",
    "import matplotlib.pyplot as plt\n",
    "from sklearn.metrics import roc_curve, auc\n",
    "\n",
    "filelist=os.listdir(\"/Users/veronica/Documents/research/standard\")[1:]\n",
    "path1 = \"/Users/veronica/Documents/research/standard\""
   ]
  },
  {
   "cell_type": "code",
   "execution_count": 3,
   "metadata": {},
   "outputs": [
    {
     "data": {
      "text/plain": [
       "186"
      ]
     },
     "execution_count": 3,
     "metadata": {},
     "output_type": "execute_result"
    }
   ],
   "source": [
    "len(filelist)"
   ]
  },
  {
   "cell_type": "code",
   "execution_count": null,
   "metadata": {},
   "outputs": [],
   "source": []
  },
  {
   "cell_type": "code",
   "execution_count": null,
   "metadata": {},
   "outputs": [],
   "source": []
  },
  {
   "cell_type": "code",
   "execution_count": 8,
   "metadata": {},
   "outputs": [],
   "source": []
  },
  {
   "cell_type": "code",
   "execution_count": null,
   "metadata": {},
   "outputs": [],
   "source": [
    "trainDF['text'] = sentence\n",
    "trainDF['label'] = label\n",
    "begin=0\n",
    "for i in len(filelist):\n",
    "   \n",
    "    validx=trainDF['text'][begin:len(filelist[i])]\n",
    "    validy=trainDF['label'][begin:len(filelist[i])]\n",
    "    begin=len( filelist[i])\n",
    "    "
   ]
  },
  {
   "cell_type": "code",
   "execution_count": 56,
   "metadata": {},
   "outputs": [
    {
     "data": {
      "text/plain": [
       "'10535857(1).csv'"
      ]
     },
     "execution_count": 56,
     "metadata": {},
     "output_type": "execute_result"
    }
   ],
   "source": [
    "filelist[0]"
   ]
  },
  {
   "cell_type": "code",
   "execution_count": 49,
   "metadata": {},
   "outputs": [],
   "source": [
    "end=len(filelist[0])\n",
    "validx=trainDF['text'][0:end]\n",
    "validy=trainDF['label'][0:end]\n",
    "trainx=trainDF['text'][end:]\n",
    "trainy=trainDF['label'][end:]"
   ]
  },
  {
   "cell_type": "code",
   "execution_count": 57,
   "metadata": {},
   "outputs": [],
   "source": [
    "tfidf_vect_ngram = TfidfVectorizer(analyzer='word', ngram_range=(2,3), max_features=5000, \n",
    "                                   stop_words='english', lowercase=True, strip_accents='unicode')\n",
    "tfidf_vect_ngram.fit(trainDF['text'])\n",
    "xtrain_tfidf_ngram =  tfidf_vect_ngram.transform(sentence[:100])\n",
    "xvalid_tfidf_ngram =  tfidf_vect_ngram.transform(validx)"
   ]
  },
  {
   "cell_type": "code",
   "execution_count": 4,
   "metadata": {},
   "outputs": [],
   "source": [
    "def count1(label):\n",
    "    count=0\n",
    "    for i in label:\n",
    "        if i=='1':\n",
    "            count+=1\n",
    "    return count"
   ]
  },
  {
   "cell_type": "code",
   "execution_count": 18,
   "metadata": {},
   "outputs": [],
   "source": [
    "train_x, valid_x, train_y, valid_y = model_selection.train_test_split(trainDF['text'], trainDF['label'])"
   ]
  },
  {
   "cell_type": "code",
   "execution_count": 11,
   "metadata": {},
   "outputs": [
    {
     "name": "stdout",
     "output_type": "stream",
     "text": [
      "20355 6785\n"
     ]
    }
   ],
   "source": [
    "print(len(train_y),len(valid_y))"
   ]
  },
  {
   "cell_type": "code",
   "execution_count": 95,
   "metadata": {},
   "outputs": [],
   "source": [
    "#Count Vector\n",
    "count_vect = CountVectorizer(analyzer='word', token_pattern=r'\\w{1,}')\n",
    "count_vect.fit(trainDF['text'])\n",
    "xtrain_count =  count_vect.transform(train_x)\n",
    "xvalid_count =  count_vect.transform(valid_x)\n"
   ]
  },
  {
   "cell_type": "code",
   "execution_count": 22,
   "metadata": {},
   "outputs": [],
   "source": [
    "# word level tf-idf\n",
    "tfidf_vect = TfidfVectorizer(analyzer='word', token_pattern=r'\\w{1,}', max_features=5000)\n",
    "tfidf_vect.fit(trainDF['text'])\n",
    "xtrain_tfidf =  tfidf_vect.transform(train_x)\n",
    "xvalid_tfidf =  tfidf_vect.transform(valid_x)\n",
    "\n",
    "# ngram level tf-idf \n",
    "tfidf_vect_ngram = TfidfVectorizer(analyzer='word', token_pattern=r'\\w{1,}', ngram_range=(2,3), max_features=5000)\n",
    "tfidf_vect_ngram.fit(trainDF['text'])\n",
    "xtrain_tfidf_ngram =  tfidf_vect_ngram.transform(train_x)\n",
    "xvalid_tfidf_ngram =  tfidf_vect_ngram.transform(valid_x)\n"
   ]
  },
  {
   "cell_type": "code",
   "execution_count": 2,
   "metadata": {},
   "outputs": [],
   "source": [
    "def train_model(classifier, feature_vector_train, label, feature_vector_valid):\n",
    "    # fit the training dataset on the classifier\n",
    "    classifier.fit(feature_vector_train, label)\n",
    "    \n",
    "    # predict the labels on validation dataset\n",
    "    predictions = classifier.predict(feature_vector_valid)\n",
    "\n",
    "    return predictions"
   ]
  },
  {
   "cell_type": "code",
   "execution_count": 232,
   "metadata": {},
   "outputs": [],
   "source": [
    "def check_results(predictions, classifications):\n",
    "    print(\"accuracy\")\n",
    "    print(accuracy_score(classifications,predictions))\n",
    "    print(classification_report(classifications,predictions))\n",
    "    "
   ]
  },
  {
   "cell_type": "code",
   "execution_count": 15,
   "metadata": {},
   "outputs": [
    {
     "name": "stdout",
     "output_type": "stream",
     "text": [
      "accuracy\n",
      "0.9717022844509948\n",
      "             precision    recall  f1-score   support\n",
      "\n",
      "          0       0.97      1.00      0.99      6593\n",
      "          1       0.00      0.00      0.00       192\n",
      "\n",
      "avg / total       0.94      0.97      0.96      6785\n",
      "\n"
     ]
    },
    {
     "name": "stderr",
     "output_type": "stream",
     "text": [
      "/anaconda3/lib/python3.6/site-packages/sklearn/metrics/classification.py:1135: UndefinedMetricWarning: Precision and F-score are ill-defined and being set to 0.0 in labels with no predicted samples.\n",
      "  'precision', 'predicted', average, warn_for)\n"
     ]
    }
   ],
   "source": [
    "# SVM on Ngram Level TF IDF Vectors\n",
    "predictions=train_model(svm.SVC(), xtrain_tfidf_ngram, np.array(train_y), xvalid_tfidf_ngram)\n",
    "check_results(predictions, np.array(valid_y))"
   ]
  },
  {
   "cell_type": "code",
   "execution_count": 17,
   "metadata": {},
   "outputs": [
    {
     "name": "stdout",
     "output_type": "stream",
     "text": [
      "accuracy\n",
      "0.9709653647752395\n",
      "             precision    recall  f1-score   support\n",
      "\n",
      "          0       0.97      1.00      0.99      6593\n",
      "          1       0.27      0.02      0.03       192\n",
      "\n",
      "avg / total       0.95      0.97      0.96      6785\n",
      "\n"
     ]
    }
   ],
   "source": [
    "predictions1=train_model(naive_bayes.MultinomialNB(), xtrain_tfidf_ngram, train_y, xvalid_tfidf_ngram)\n",
    "check_results(predictions1, np.array(valid_y))"
   ]
  },
  {
   "cell_type": "code",
   "execution_count": 168,
   "metadata": {},
   "outputs": [
    {
     "data": {
      "text/plain": [
       "5"
      ]
     },
     "execution_count": 168,
     "metadata": {},
     "output_type": "execute_result"
    }
   ],
   "source": [
    "count1(predictions1)"
   ]
  },
  {
   "cell_type": "code",
   "execution_count": 18,
   "metadata": {},
   "outputs": [
    {
     "name": "stderr",
     "output_type": "stream",
     "text": [
      "/anaconda3/lib/python3.6/site-packages/sklearn/ensemble/weight_boosting.py:29: DeprecationWarning: numpy.core.umath_tests is an internal NumPy module and should not be imported. It will be removed in a future NumPy release.\n",
      "  from numpy.core.umath_tests import inner1d\n",
      "/anaconda3/lib/python3.6/site-packages/sklearn/cross_validation.py:41: DeprecationWarning: This module was deprecated in version 0.18 in favor of the model_selection module into which all the refactored classes and functions are moved. Also note that the interface of the new CV iterators are different from that of this module. This module will be removed in 0.20.\n",
      "  \"This module will be removed in 0.20.\", DeprecationWarning)\n"
     ]
    }
   ],
   "source": [
    "from sklearn.ensemble import RandomForestClassifier\n",
    "\n",
    "clf = RandomForestClassifier()\n",
    "\n",
    "from sklearn import cross_validation \n",
    "\n",
    "predictions = cross_validation.cross_val_predict(clf, xtrain_tfidf_ngram,train_y, cv=10)\n",
    "\n"
   ]
  },
  {
   "cell_type": "code",
   "execution_count": 172,
   "metadata": {},
   "outputs": [
    {
     "data": {
      "text/plain": [
       "20355"
      ]
     },
     "execution_count": 172,
     "metadata": {},
     "output_type": "execute_result"
    }
   ],
   "source": [
    "len(predictions) "
   ]
  },
  {
   "cell_type": "code",
   "execution_count": 19,
   "metadata": {},
   "outputs": [
    {
     "name": "stdout",
     "output_type": "stream",
     "text": [
      "accuracy\n",
      "0.9670351265045444\n",
      "             precision    recall  f1-score   support\n",
      "\n",
      "          0       0.97      1.00      0.98     19757\n",
      "          1       0.11      0.02      0.03       598\n",
      "\n",
      "avg / total       0.95      0.97      0.96     20355\n",
      "\n"
     ]
    }
   ],
   "source": [
    "check_results(predictions, np.array(train_y))"
   ]
  },
  {
   "cell_type": "code",
   "execution_count": null,
   "metadata": {},
   "outputs": [],
   "source": [
    "split articles leave one out plot 1 recall\n",
    "reduce number into NuM\n",
    "add feature \n",
    "svm.SVC() parameters  linear scv(c=)"
   ]
  },
  {
   "cell_type": "code",
   "execution_count": 147,
   "metadata": {},
   "outputs": [],
   "source": [
    "## take in sents and Q2 label\n",
    "filelist=os.listdir(\"/Users/veronica/Documents/research/standard\")[1:]\n",
    "sentence= {}\n",
    "label={}\n",
    "path1 = \"/Users/veronica/Documents/research/standard\"\n",
    "for k in range(len(filelist)):\n",
    " \n",
    "    f1=open(os.path.join(path1, filelist[k]), 'r',encoding = 'unicode_escape')\n",
    "    reader = csv.reader(f1)\n",
    "    rows= [row for row in reader]\n",
    "    sentence[k]=[]\n",
    "    label[k]=[]      \n",
    "    for i in range(1,len(rows)):\n",
    "        sentence[k].append(rows[i][1])\n",
    "        label[k].append(rows[i][3])"
   ]
  },
  {
   "cell_type": "code",
   "execution_count": 149,
   "metadata": {},
   "outputs": [],
   "source": [
    "## take in sents and Q2 label\n",
    "filelist=os.listdir(\"/Users/veronica/Documents/research/standard\")[1:]\n",
    "sentence= []\n",
    "\n",
    "path1 = \"/Users/veronica/Documents/research/standard\"\n",
    "for k in range(len(filelist)):\n",
    " \n",
    "    f1=open(os.path.join(path1, filelist[k]), 'r',encoding = 'unicode_escape')\n",
    "    reader = csv.reader(f1)\n",
    "    rows= [row for row in reader]\n",
    "\n",
    "   \n",
    "    for i in range(1,len(rows)):\n",
    "        sentence.append(rows[i][1])\n",
    " "
   ]
  },
  {
   "cell_type": "code",
   "execution_count": 150,
   "metadata": {},
   "outputs": [
    {
     "data": {
      "text/plain": [
       "31740"
      ]
     },
     "execution_count": 150,
     "metadata": {},
     "output_type": "execute_result"
    }
   ],
   "source": [
    "len(sentence)"
   ]
  },
  {
   "cell_type": "code",
   "execution_count": 4,
   "metadata": {},
   "outputs": [],
   "source": [
    "# split\n",
    "def randomsplit(n):\n",
    "    sub=random.sample(range(1, 165), n)\n",
    "    trainx=[]\n",
    "    trainy=[]\n",
    "    validx=[]\n",
    "    validy=[]\n",
    "    for key in sentence.keys():\n",
    "        if key in sub:\n",
    "            validx.extend(sentence[key])\n",
    "            validy.extend(label[key])\n",
    "        else:\n",
    "            trainx.extend(sentence[key])\n",
    "            trainy.extend(label[key])\n",
    "    return trainx,trainy,validx,validy"
   ]
  },
  {
   "cell_type": "code",
   "execution_count": 5,
   "metadata": {},
   "outputs": [],
   "source": [
    "def split(s,e):\n",
    "    trainx=[]\n",
    "    trainy=[]\n",
    "    validx=[]\n",
    "    validy=[]\n",
    "    for key in sentence.keys():\n",
    "        if key in range(s,e):\n",
    "            validx.extend(sentence[key])\n",
    "            validy.extend(label[key])\n",
    "        else:\n",
    "            trainx.extend(sentence[key])\n",
    "            trainy.extend(label[key])\n",
    "    return trainx,trainy,validx,validy"
   ]
  },
  {
   "cell_type": "code",
   "execution_count": 18,
   "metadata": {},
   "outputs": [],
   "source": [
    "from sklearn.pipeline import Pipeline,FeatureUnion\n",
    "from sklearn.svm import LinearSVC\n",
    "from sklearn.feature_extraction.stop_words import ENGLISH_STOP_WORDS\n",
    "from sklearn.metrics import recall_score,precision_score\n",
    "from nltk.corpus import stopwords\n",
    "import string\n",
    "import re\n",
    "import spacy\n",
    "nlp=spacy.load(\"en_core_web_sm\")\n",
    "from spacy.lang.en import English\n",
    "STOPLIST = set(stopwords.words('english') + list(ENGLISH_STOP_WORDS))\n",
    "\n",
    "from nltk.stem.porter import *\n",
    "stemmer = PorterStemmer()"
   ]
  },
  {
   "cell_type": "code",
   "execution_count": 5,
   "metadata": {},
   "outputs": [],
   "source": [
    "\n",
    "def tokenizeText(sample):\n",
    "    token = nlp(sample)\n",
    "    tokens=[]\n",
    "    \n",
    "    for tok in token:\n",
    "        if str(tok).isdigit():#number\n",
    "            tokens.append('NUM')\n",
    "        if str(tok).isalpha():\n",
    "            tokens.append(tok.lower_)\n",
    "    tokens = [tok for tok in tokens if tok not in STOPLIST]       \n",
    "    return tokens"
   ]
  },
  {
   "cell_type": "code",
   "execution_count": 356,
   "metadata": {},
   "outputs": [],
   "source": [
    "def svm_recall():\n",
    "#random pick 15 from 165 for test\n",
    "    trainx,trainy,validx,validy=randomsplit(15)\n",
    "#tfidf\n",
    "    vectorizer = TfidfVectorizer(tokenizer=tokenizeText, ngram_range=(2,3), max_features=5000)\n",
    "    a1 = vectorizer.fit_transform(training_data)\n",
    "    a2 = one-hot-encoder\n",
    "    np.append(a1,a2)\n",
    "    \n",
    "#linearSVC\n",
    "    clf1 = LinearSVC(C=1.5)\n",
    "    pipe = Pipeline([('vectorizer', vectorizer), ('clf', clf1)])\n",
    "# train\n",
    "    pipe.fit(trainx, trainy)\n",
    "# test\n",
    "    preds = pipe.predict(validx)\n",
    "#recall score\n",
    "    return recall_score(np.array(validy), preds,average=None)[1]\n",
    "# 10 times\n",
    "recall=[]\n",
    "for i in range(10):\n",
    "    recall.append(svm_recall(1.5))"
   ]
  },
  {
   "cell_type": "code",
   "execution_count": 23,
   "metadata": {},
   "outputs": [],
   "source": [
    "def svm_best():\n",
    "#random pick 15 from 165 for test\n",
    "    trainx,trainy,validx,validy=randomsplit(15)\n",
    "#tfidf\n",
    "    vectorizer = TfidfVectorizer(tokenizer=tokenizeText, ngram_range=(1,2), max_features=5000)\n",
    "#linearSVC\n",
    "    clf1 = LinearSVC(C=1.5)\n",
    "    pipe = Pipeline([('vectorizer', vectorizer), ('clf', clf1)])\n",
    "# train\n",
    "    pipe.fit(trainx, trainy)\n",
    "# test\n",
    "    preds = pipe.predict(validx)\n",
    "#recall score\n",
    "    return recall_score(np.array(validy), preds,average=None)[1]\n",
    "# 10 times\n",
    "best=[]\n",
    "for i in range(10):\n",
    "    best.append(svm_best())"
   ]
  },
  {
   "cell_type": "code",
   "execution_count": null,
   "metadata": {},
   "outputs": [],
   "source": []
  },
  {
   "cell_type": "code",
   "execution_count": null,
   "metadata": {},
   "outputs": [],
   "source": [
    "AUC\n",
    "mean sd"
   ]
  },
  {
   "cell_type": "code",
   "execution_count": 27,
   "metadata": {},
   "outputs": [
    {
     "data": {
      "image/png": "[encoded data removed]",
      "text/plain": [
       "<Figure size 432x288 with 1 Axes>"
      ]
     },
     "metadata": {},
     "output_type": "display_data"
    },
    {
     "data": {
      "text/plain": [
       "[0.22727272727272727,\n",
       " 0.043478260869565216,\n",
       " 0.3181818181818182,\n",
       " 0.25,\n",
       " 0.32,\n",
       " 0.36363636363636365,\n",
       " 0.22727272727272727,\n",
       " 0.3333333333333333,\n",
       " 0.44,\n",
       " 0.25]"
      ]
     },
     "execution_count": 27,
     "metadata": {},
     "output_type": "execute_result"
    }
   ],
   "source": [
    "plt.plot(recall,\"r--\")\n",
    "plt.plot(best) \n",
    "plt.show()\n",
    "best"
   ]
  },
  {
   "cell_type": "code",
   "execution_count": 26,
   "metadata": {
    "scrolled": true
   },
   "outputs": [
    {
     "data": {
      "text/plain": [
       "[0.16666666666666666,\n",
       " 0.19047619047619047,\n",
       " 0.13636363636363635,\n",
       " 0.25925925925925924,\n",
       " 0.13636363636363635,\n",
       " 0.2,\n",
       " 0.20689655172413793,\n",
       " 0.13636363636363635,\n",
       " 0.23076923076923078,\n",
       " 0.2727272727272727]"
      ]
     },
     "execution_count": 26,
     "metadata": {},
     "output_type": "execute_result"
    }
   ],
   "source": [
    "\n",
    "recall"
   ]
  },
  {
   "cell_type": "code",
   "execution_count": 359,
   "metadata": {},
   "outputs": [
    {
     "data": {
      "image/png": "[encoded data removed]",
      "text/plain": [
       "<Figure size 432x288 with 1 Axes>"
      ]
     },
     "metadata": {},
     "output_type": "display_data"
    }
   ],
   "source": [
    "plt.plot(recall)\n",
    "plt.show()"
   ]
  },
  {
   "cell_type": "code",
   "execution_count": null,
   "metadata": {},
   "outputs": [],
   "source": [
    "# successive 15 articles for testing\n",
    "recall1=[]\n",
    "vectorizer = TfidfVectorizer(tokenizer=tokenizeText, ngram_range=(2,3), max_features=5000)\n",
    "clf1 = LinearSVC(C=1.5)\n",
    "pipe = Pipeline([('vectorizer', vectorizer), ('clf', clf1)])\n",
    "for i in range(0,len(sentence)-10,10):\n",
    "    trainx,trainy,validx,validy=split(i,i+15)\n",
    "    pipe.fit(trainx, trainy)\n",
    "    preds = pipe.predict(validx)\n",
    "    recall1.append(recall_score(np.array(validy), preds,average=None)[1])"
   ]
  },
  {
   "cell_type": "code",
   "execution_count": 15,
   "metadata": {},
   "outputs": [
    {
     "data": {
      "text/plain": [
       "[0.20833333333333334,\n",
       " 0.21739130434782608,\n",
       " 0.2222222222222222,\n",
       " 0.0,\n",
       " 0.08695652173913043,\n",
       " 0.09090909090909091,\n",
       " 0.25,\n",
       " 0.4117647058823529,\n",
       " 0.13636363636363635,\n",
       " 0.1724137931034483,\n",
       " 0.17857142857142858,\n",
       " 0.34615384615384615,\n",
       " 0.1111111111111111,\n",
       " 0.041666666666666664,\n",
       " 0.20833333333333334,\n",
       " 0.10526315789473684]"
      ]
     },
     "execution_count": 15,
     "metadata": {},
     "output_type": "execute_result"
    }
   ],
   "source": [
    "recall1"
   ]
  },
  {
   "cell_type": "code",
   "execution_count": 377,
   "metadata": {},
   "outputs": [],
   "source": [
    "recall2=[]\n",
    "vectorizer = TfidfVectorizer(tokenizer=tokenizeText, ngram_range=(2,3), max_features=5000)\n",
    "clf1 = LinearSVC(C=0.5)\n",
    "pipe = Pipeline([('vectorizer', vectorizer), ('clf', clf1)])\n",
    "for i in range(0,len(sentence)-10,10):\n",
    "    trainx,trainy,validx,validy=split(i,i+15)\n",
    "    pipe.fit(trainx, trainy)\n",
    "    preds = pipe.predict(validx)\n",
    "    recall2.append(recall_score(np.array(validy), preds,average=None)[1])"
   ]
  },
  {
   "cell_type": "code",
   "execution_count": 21,
   "metadata": {},
   "outputs": [],
   "source": [
    "recall3=[]\n",
    "vectorizer = TfidfVectorizer(tokenizer=tokenizeText, ngram_range=(1,2))\n",
    "clf1 = LinearSVC(C=1.5)\n",
    "pipe = Pipeline([('vectorizer', vectorizer), ('clf', clf1)])\n",
    "for i in range(0,60,10):\n",
    "    trainx,trainy,validx,validy=split(i,i+15)\n",
    "    pipe.fit(trainx, trainy)\n",
    "    preds = pipe.predict(validx)\n",
    "    recall4.append(recall_score(np.array(validy), preds,average=None)[1])"
   ]
  },
  {
   "cell_type": "code",
   "execution_count": 9,
   "metadata": {},
   "outputs": [
    {
     "data": {
      "text/plain": [
       "[0.16666666666666666,\n",
       " 0.21739130434782608,\n",
       " 0.2777777777777778,\n",
       " 0.15789473684210525,\n",
       " 0.13043478260869565,\n",
       " 0.13636363636363635,\n",
       " 0.3333333333333333,\n",
       " 0.5294117647058824]"
      ]
     },
     "execution_count": 9,
     "metadata": {},
     "output_type": "execute_result"
    }
   ],
   "source": [
    "recall3"
   ]
  },
  {
   "cell_type": "code",
   "execution_count": 14,
   "metadata": {},
   "outputs": [
    {
     "data": {
      "text/plain": [
       "[0.08333333333333333,\n",
       " 0.17391304347826086,\n",
       " 0.2222222222222222,\n",
       " 0.0,\n",
       " 0.08695652173913043,\n",
       " 0.09090909090909091,\n",
       " 0.25,\n",
       " 0.35294117647058826,\n",
       " 0.09090909090909091,\n",
       " 0.10344827586206896,\n",
       " 0.10714285714285714,\n",
       " 0.23076923076923078,\n",
       " 0.1111111111111111,\n",
       " 0.041666666666666664,\n",
       " 0.20833333333333334,\n",
       " 0.10526315789473684]"
      ]
     },
     "execution_count": 14,
     "metadata": {},
     "output_type": "execute_result"
    }
   ],
   "source": [
    "recall2"
   ]
  },
  {
   "cell_type": "code",
   "execution_count": 13,
   "metadata": {},
   "outputs": [
    {
     "data": {
      "image/png": "[encoded data removed]",
      "text/plain": [
       "<Figure size 432x288 with 1 Axes>"
      ]
     },
     "metadata": {},
     "output_type": "display_data"
    }
   ],
   "source": [
    "\n",
    "plt.plot(recall1,'r')\n",
    "plt.plot(recall2,'--')\n",
    "plt.plot(recall3,'g')\n",
    "plt.show()"
   ]
  },
  {
   "cell_type": "code",
   "execution_count": 330,
   "metadata": {},
   "outputs": [
    {
     "data": {
      "text/plain": [
       "0.058823529411764705"
      ]
     },
     "execution_count": 330,
     "metadata": {},
     "output_type": "execute_result"
    }
   ],
   "source": [
    "clf1 = LinearSVC(C=0.5)\n",
    "vectorizer = TfidfVectorizer(tokenizer=tokenizeText, ngram_range=(2,3), max_features=5000)\n",
    "pipe = Pipeline([('vectorizer', vectorizer), ('clf', clf1)])\n",
    "trainx,trainy,validx,validy=split(0,10)\n",
    "pipe.fit(trainx, trainy)\n",
    "preds = pipe.predict(validx)\n",
    "recall_score(np.array(validy), preds,average=None)[1]"
   ]
  },
  {
   "cell_type": "code",
   "execution_count": 331,
   "metadata": {},
   "outputs": [
    {
     "data": {
      "text/plain": [
       "0.11764705882352941"
      ]
     },
     "execution_count": 331,
     "metadata": {},
     "output_type": "execute_result"
    }
   ],
   "source": [
    "clf3 = LinearSVC(C=1.5)\n",
    "pipe = Pipeline([('vectorizer', vectorizer), ('clf', clf3)])\n",
    "trainx,trainy,validx,validy=split(0,10)\n",
    "pipe.fit(trainx, trainy)\n",
    "preds = pipe.predict(validx)\n",
    "recall_score(np.array(validy), preds,average=None)[1]"
   ]
  },
  {
   "cell_type": "code",
   "execution_count": 355,
   "metadata": {},
   "outputs": [
    {
     "data": {
      "text/plain": [
       "0.11764705882352941"
      ]
     },
     "execution_count": 355,
     "metadata": {},
     "output_type": "execute_result"
    }
   ],
   "source": [
    "def tokenizeText1(sample):\n",
    "    token = nlp(sample)\n",
    "    tokens=[]\n",
    "    for tok in token:\n",
    "        if str(tok).isdigit():\n",
    "            tokens.append('NUM')\n",
    "        if str(tok).isalpha():\n",
    "            tokens.append(tok.lower_)\n",
    "    return tokens\n",
    "vectorizer = TfidfVectorizer(tokenizer=tokenizeText1,lowercase=False,stop_words=\"english\", ngram_range=(2,3), max_features=5000)\n",
    "clf = LinearSVC(C=1.5)\n",
    "pipe = Pipeline([('vectorizer', vectorizer), ('clf', clf)])\n",
    "trainx,trainy,validx,validy=split(0,10)\n",
    "pipe.fit(trainx, trainy)\n",
    "preds = pipe.predict(validx)\n",
    "recall_score(np.array(validy), preds,average=None)[1]"
   ]
  },
  {
   "cell_type": "code",
   "execution_count": 347,
   "metadata": {},
   "outputs": [
    {
     "data": {
      "text/plain": [
       "0.058823529411764705"
      ]
     },
     "execution_count": 347,
     "metadata": {},
     "output_type": "execute_result"
    }
   ],
   "source": [
    "pipe = Pipeline([('counts', CountVectorizer(tokenizer=tokenizeText,ngram_range=(2,3))), ('tf_idf', TfidfTransformer()), ('classifier', LinearSVC(C=1.5))])\n",
    "trainx,trainy,validx,validy=split(0,10)\n",
    "pipe.fit(trainx, trainy)\n",
    "preds = pipe.predict(validx)\n",
    "recall_score(np.array(validy), preds,average=None)[1]"
   ]
  },
  {
   "cell_type": "code",
   "execution_count": null,
   "metadata": {},
   "outputs": [],
   "source": []
  },
  {
   "cell_type": "code",
   "execution_count": null,
   "metadata": {},
   "outputs": [],
   "source": []
  },
  {
   "cell_type": "code",
   "execution_count": 20,
   "metadata": {},
   "outputs": [],
   "source": [
    "import pandas as pd\n",
    "caps = pd.read_csv(os.path.join(path1, filelist[2]),encoding = 'unicode_escape', usecols = ['Sentence-String','Q2'])"
   ]
  },
  {
   "cell_type": "code",
   "execution_count": 21,
   "metadata": {},
   "outputs": [
    {
     "data": {
      "text/html": [
       "<div>\n",
       "<style scoped>\n",
       "    .dataframe tbody tr th:only-of-type {\n",
       "        vertical-align: middle;\n",
       "    }\n",
       "\n",
       "    .dataframe tbody tr th {\n",
       "        vertical-align: top;\n",
       "    }\n",
       "\n",
       "    .dataframe thead th {\n",
       "        text-align: right;\n",
       "    }\n",
       "</style>\n",
       "<table border=\"1\" class=\"dataframe\">\n",
       "  <thead>\n",
       "    <tr style=\"text-align: right;\">\n",
       "      <th></th>\n",
       "      <th>Sentence-String</th>\n",
       "      <th>Q2</th>\n",
       "    </tr>\n",
       "  </thead>\n",
       "  <tbody>\n",
       "    <tr>\n",
       "      <th>0</th>\n",
       "      <td>Increased intraocular pressure (IOP) has been ...</td>\n",
       "      <td>0</td>\n",
       "    </tr>\n",
       "    <tr>\n",
       "      <th>1</th>\n",
       "      <td>Yet it has not been clearly demonstrated that ...</td>\n",
       "      <td>0</td>\n",
       "    </tr>\n",
       "    <tr>\n",
       "      <th>2</th>\n",
       "      <td>The aim of the current paper was to report the...</td>\n",
       "      <td>0</td>\n",
       "    </tr>\n",
       "    <tr>\n",
       "      <th>3</th>\n",
       "      <td>We conducted a randomised, double-masked study...</td>\n",
       "      <td>0</td>\n",
       "    </tr>\n",
       "    <tr>\n",
       "      <th>4</th>\n",
       "      <td>Patients were followed at 3-month intervals pr...</td>\n",
       "      <td>0</td>\n",
       "    </tr>\n",
       "  </tbody>\n",
       "</table>\n",
       "</div>"
      ],
      "text/plain": [
       "                                     Sentence-String  Q2\n",
       "0  Increased intraocular pressure (IOP) has been ...   0\n",
       "1  Yet it has not been clearly demonstrated that ...   0\n",
       "2  The aim of the current paper was to report the...   0\n",
       "3  We conducted a randomised, double-masked study...   0\n",
       "4  Patients were followed at 3-month intervals pr...   0"
      ]
     },
     "execution_count": 21,
     "metadata": {},
     "output_type": "execute_result"
    }
   ],
   "source": [
    "caps.head()"
   ]
  },
  {
   "cell_type": "code",
   "execution_count": 146,
   "metadata": {},
   "outputs": [
    {
     "data": {
      "text/plain": [
       "'there need incorpor addit step maxim practic complianc order facilit complet recommend amount session practis'"
      ]
     },
     "execution_count": 146,
     "metadata": {},
     "output_type": "execute_result"
    }
   ],
   "source": [
    "X[399]"
   ]
  },
  {
   "cell_type": "code",
   "execution_count": 136,
   "metadata": {},
   "outputs": [],
   "source": [
    "X = frame['cleaned']\n",
    "Y = frame['Q2']  \n"
   ]
  },
  {
   "cell_type": "code",
   "execution_count": 65,
   "metadata": {},
   "outputs": [],
   "source": [
    "vectorizer = TfidfVectorizer(min_df= 3, sublinear_tf=True, norm='l2', ngram_range=(1, 3),lowercase=False)\n",
    "feature1 = vectorizer.fit_transform(frame['cleaned']).toarray()\n"
   ]
  },
  {
   "cell_type": "code",
   "execution_count": 63,
   "metadata": {},
   "outputs": [],
   "source": [
    "x2=np.zeros(3)\n",
    "for sents in X:\n",
    "    flag=[]\n",
    "    if \"random\" in sents:\n",
    "        flag.append(1)\n",
    "    else :\n",
    "        flag.append(0)\n",
    "    if (\"patient\" in sents or \"subject\" in sents) and \"random\" in sents:\n",
    "        flag.append(1)\n",
    "    else :\n",
    "        flag.append(0)\n",
    "        \n",
    "    if (\"allocate\" in sents or \"assign\" in sents or \"generate\" in sents) and \"random\" in sents:\n",
    "        flag.append(1)\n",
    "    else :\n",
    "        flag.append(0)\n",
    "    x1 = np.array(flag)\n",
    "    x2 = np.row_stack([x2,x1])\n",
    "feature2 = np.delete(x2, 0, 0)"
   ]
  },
  {
   "cell_type": "code",
   "execution_count": 67,
   "metadata": {},
   "outputs": [
    {
     "data": {
      "text/plain": [
       "(31740, 47681)"
      ]
     },
     "execution_count": 67,
     "metadata": {},
     "output_type": "execute_result"
    }
   ],
   "source": [
    "feature1.shape"
   ]
  },
  {
   "cell_type": "code",
   "execution_count": 66,
   "metadata": {},
   "outputs": [
    {
     "ename": "KeyboardInterrupt",
     "evalue": "",
     "output_type": "error",
     "traceback": [
      "\u001b[0;31m---------------------------------------------------------------------------\u001b[0m",
      "\u001b[0;31mKeyboardInterrupt\u001b[0m                         Traceback (most recent call last)",
      "\u001b[0;32m<ipython-input-66-1e579cacd6f1>\u001b[0m in \u001b[0;36m<module>\u001b[0;34m()\u001b[0m\n\u001b[0;32m----> 1\u001b[0;31m \u001b[0mnp\u001b[0m\u001b[0;34m.\u001b[0m\u001b[0mhstack\u001b[0m\u001b[0;34m(\u001b[0m\u001b[0;34m(\u001b[0m\u001b[0mfeature1\u001b[0m\u001b[0;34m,\u001b[0m\u001b[0mfeature2\u001b[0m\u001b[0;34m)\u001b[0m\u001b[0;34m)\u001b[0m\u001b[0;34m\u001b[0m\u001b[0m\n\u001b[0m",
      "\u001b[0;32m/anaconda3/lib/python3.6/site-packages/numpy/core/shape_base.py\u001b[0m in \u001b[0;36mhstack\u001b[0;34m(tup)\u001b[0m\n\u001b[1;32m    286\u001b[0m         \u001b[0;32mreturn\u001b[0m \u001b[0m_nx\u001b[0m\u001b[0;34m.\u001b[0m\u001b[0mconcatenate\u001b[0m\u001b[0;34m(\u001b[0m\u001b[0marrs\u001b[0m\u001b[0;34m,\u001b[0m \u001b[0;36m0\u001b[0m\u001b[0;34m)\u001b[0m\u001b[0;34m\u001b[0m\u001b[0m\n\u001b[1;32m    287\u001b[0m     \u001b[0;32melse\u001b[0m\u001b[0;34m:\u001b[0m\u001b[0;34m\u001b[0m\u001b[0m\n\u001b[0;32m--> 288\u001b[0;31m         \u001b[0;32mreturn\u001b[0m \u001b[0m_nx\u001b[0m\u001b[0;34m.\u001b[0m\u001b[0mconcatenate\u001b[0m\u001b[0;34m(\u001b[0m\u001b[0marrs\u001b[0m\u001b[0;34m,\u001b[0m \u001b[0;36m1\u001b[0m\u001b[0;34m)\u001b[0m\u001b[0;34m\u001b[0m\u001b[0m\n\u001b[0m\u001b[1;32m    289\u001b[0m \u001b[0;34m\u001b[0m\u001b[0m\n\u001b[1;32m    290\u001b[0m \u001b[0;34m\u001b[0m\u001b[0m\n",
      "\u001b[0;31mKeyboardInterrupt\u001b[0m: "
     ]
    }
   ],
   "source": [
    "features=np.hstack((feature1,feature2))"
   ]
  },
  {
   "cell_type": "code",
   "execution_count": 45,
   "metadata": {},
   "outputs": [
    {
     "data": {
      "text/plain": [
       "181"
      ]
     },
     "execution_count": 45,
     "metadata": {},
     "output_type": "execute_result"
    }
   ],
   "source": [
    "len(X[100])"
   ]
  },
  {
   "cell_type": "code",
   "execution_count": 69,
   "metadata": {},
   "outputs": [],
   "source": [
    "vect= TfidfVectorizer(sublinear_tf=True, norm='l2',ngram_range=(1, 2),lowercase=False,)\n",
    "pipeline= Pipeline([('vect', vectorizer),('clf', LinearSVC())])\n",
    "\n",
    "from sklearn.grid_search import GridSearchCV\n",
    "\n",
    "parameters = {\n",
    "    'clf__C': [0.2,0.3,0.4,0.5,1.5],\n",
    "    'vect__max_features':[10000,20000]\n",
    "}\n",
    "\n",
    "grid = GridSearchCV(pipeline, param_grid=parameters, cv=10)\n",
    "grid.fit(X, Y)"
   ]
  },
  {
   "cell_type": "code",
   "execution_count": 90,
   "metadata": {},
   "outputs": [
    {
     "data": {
      "text/plain": [
       "{'clf__C': 0.4, 'vect__max_features': 20000}"
      ]
     },
     "execution_count": 90,
     "metadata": {},
     "output_type": "execute_result"
    }
   ],
   "source": [
    "grid.best_params_"
   ]
  },
  {
   "cell_type": "code",
   "execution_count": 107,
   "metadata": {},
   "outputs": [
    {
     "data": {
      "text/plain": [
       "TfidfVectorizer(analyzer='word', binary=False, decode_error='strict',\n",
       "        dtype=<class 'numpy.int64'>, encoding='utf-8', input='content',\n",
       "        lowercase=False, max_df=1.0, max_features=20000, min_df=1,\n",
       "        ngram_range=(1, 2), norm='l2', preprocessor=None, smooth_idf=True,\n",
       "        stop_words=None, strip_accents=None, sublinear_tf=True,\n",
       "        token_pattern='(?u)\\\\b\\\\w\\\\w+\\\\b', tokenizer=None, use_idf=True,\n",
       "        vocabulary=None)"
      ]
     },
     "execution_count": 107,
     "metadata": {},
     "output_type": "execute_result"
    }
   ],
   "source": [
    "tfidf_vect_ngram = TfidfVectorizer( sublinear_tf=True, norm='l2', ngram_range=(1, 2),lowercase=False,max_features=20000)\n",
    "tfidf_vect_ngram.fit(X)"
   ]
  },
  {
   "cell_type": "code",
   "execution_count": 345,
   "metadata": {},
   "outputs": [],
   "source": [
    "sub=random.sample(range(1, 186), 15)\n",
    "frame1 = pd.DataFrame()\n",
    "list1 = []\n",
    "frame2 = pd.DataFrame()\n",
    "list2 = []\n",
    "for i in range(len(filelist)):\n",
    "    df = pd.read_csv(os.path.join(path1, filelist[i]),encoding = 'unicode_escape', usecols = ['Sentence-String','Q2'])\n",
    "    df['cleaned'] = df['Sentence-String'].apply(lambda x: \" \".join([lemmatizer.lemmatize(i) for i in x.split() if (str(i).isalpha() and i not in swords and len(i)>1)]).lower())\n",
    "    if i in sub:\n",
    "        list1.append(df)\n",
    "    else:\n",
    "        list2.append(df)\n",
    "frame1 = pd.concat(list1)\n",
    "frame2 = pd.concat(list2)\n",
    "Xtrain = frame2['cleaned']\n",
    "Xvalid = frame1['cleaned']\n",
    "Yvalid = np.array(frame1['Q2']) \n",
    "Ytrain = np.array(frame2['Q2'])"
   ]
  },
  {
   "cell_type": "code",
   "execution_count": null,
   "metadata": {},
   "outputs": [],
   "source": [
    "# 9.18"
   ]
  },
  {
   "cell_type": "code",
   "execution_count": 1,
   "metadata": {},
   "outputs": [],
   "source": [
    "from statistics import mean,stdev\n",
    "from nltk.stem import WordNetLemmatizer \n",
    "lemmatizer = WordNetLemmatizer() \n",
    "import matplotlib.pyplot as plt\n",
    "\n",
    "import os\n",
    "import pandas as pd\n",
    "import random\n",
    "import numpy as np\n",
    "from sklearn.feature_extraction.text import TfidfVectorizer,TfidfTransformer\n",
    "from sklearn.metrics import accuracy_score, classification_report,roc_curve, auc,recall_score,precision_score\n",
    "from sklearn.svm import LinearSVC\n",
    "from sklearn.feature_extraction.stop_words import ENGLISH_STOP_WORDS\n",
    "from nltk.corpus import stopwords\n",
    "import string\n",
    "import re\n",
    "STOPLIST = set(stopwords.words('english') + list(ENGLISH_STOP_WORDS))\n",
    "from nltk.stem.porter import *\n",
    "stemmer = PorterStemmer()\n",
    "\n",
    "filelist=os.listdir(\"/Users/veronica/Documents/research/standard\")[1:]\n",
    "path1 = \"/Users/veronica/Documents/research/standard\""
   ]
  },
  {
   "cell_type": "code",
   "execution_count": 2,
   "metadata": {},
   "outputs": [],
   "source": [
    "def data_generate():\n",
    "    sub=random.sample(range(1, 186), 15)\n",
    "    frame1 = pd.DataFrame()\n",
    "    list1 = []\n",
    "    frame2 = pd.DataFrame()\n",
    "    list2 = []\n",
    "    for i in range(len(filelist)):\n",
    "        df = pd.read_csv(os.path.join(path1, filelist[i]),encoding = 'unicode_escape', usecols = ['Sentence-String','Q2'])\n",
    "        df['cleaned'] = df['Sentence-String'].apply(lambda x: \" \".join([lemmatizer.lemmatize(i) for i in x.split() if (str(i).isalpha() and i not in STOPLIST and len(i)>1)]).lower())\n",
    "        if i in sub:\n",
    "            list1.append(df)\n",
    "        else:\n",
    "            list2.append(df)\n",
    "    frame1 = pd.concat(list1)\n",
    "    frame2 = pd.concat(list2)\n",
    "    Xtrain = frame2['cleaned']\n",
    "    Xvalid = frame1['cleaned']\n",
    "    Yvalid = np.array(frame1['Q2']) \n",
    "    Ytrain = np.array(frame2['Q2'])\n",
    "    return(Xtrain,Xvalid,Ytrain,Yvalid)"
   ]
  },
  {
   "cell_type": "code",
   "execution_count": 3,
   "metadata": {},
   "outputs": [],
   "source": [
    "def features_generate(X,tfidf_vect_ngram):\n",
    "    x2=np.zeros(3)\n",
    "    for sent in X:\n",
    "        sents=\" \".join([stemmer.stem(i) for i in sent.split()])\n",
    "        flag=[]\n",
    "        if (\"random\" in sents or 'randomli'in sents):\n",
    "            flag.append(1)\n",
    "        else :\n",
    "            flag.append(0)\n",
    "        if (\"patient\" in sents or \"subject\" in sents) and (\"random\" in sents or 'randomli'in sents):\n",
    "            flag.append(1)\n",
    "        else :\n",
    "            flag.append(0)\n",
    "        if ('alloc' in sents or \"assign\" in sents or 'gener' in sents) and (\"random\" in sents or 'randomli'in sents):\n",
    "            flag.append(1)\n",
    "        else :\n",
    "            flag.append(0)\n",
    "        x1 = np.array(flag)\n",
    "        x2 = np.row_stack([x2,x1])\n",
    "    x_tfidf =  tfidf_vect_ngram.transform(X)\n",
    "    feature=np.delete(x2, 0, 0)\n",
    "    x_features=np.c_[x_tfidf.toarray(),feature]\n",
    "    return x_features "
   ]
  },
  {
   "cell_type": "code",
   "execution_count": 4,
   "metadata": {},
   "outputs": [],
   "source": [
    "def train_model(classifier, feature_vector_train, label, feature_vector_valid):\n",
    "    # fit the training dataset on the classifier\n",
    "    classifier.fit(feature_vector_train, label)\n",
    "    \n",
    "    # predict the labels on validation dataset\n",
    "    predictions = classifier.predict(feature_vector_valid)\n",
    "\n",
    "    return predictions"
   ]
  },
  {
   "cell_type": "code",
   "execution_count": 352,
   "metadata": {},
   "outputs": [],
   "source": [
    "def RUNSCV() :\n",
    "    Xtrain,Xvalid,Ytrain,Yvalid=data_generate()\n",
    "    tfidf_vect_ngram = TfidfVectorizer(ngram_range=(1, 2),max_features=5000)\n",
    "    tfidf_vect_ngram.fit(Xtrain)\n",
    "    xtrain_feature=features_generate(Xtrain)\n",
    "    xvalid_feature=features_generate(Xvalid)\n",
    "    preds=train_model(LinearSVC(C=0.4), xtrain_feature, Ytrain , xvalid_feature)\n",
    "    recall=recall_score(Yvalid, preds,average=None)[1]\n",
    "    precision=precision_score(Yvalid, preds,average=None)[1]\n",
    "    fpr, tpr, _ = roc_curve(Yvalid, preds)\n",
    "    roc_auc = auc(fpr, tpr)\n",
    "    return(precision,recall,roc_auc,fpr[1],tpr[1])"
   ]
  },
  {
   "cell_type": "code",
   "execution_count": 353,
   "metadata": {},
   "outputs": [],
   "source": [
    "recall=[]\n",
    "roc_auc=[]\n",
    "precision=[]\n",
    "fpr=[]\n",
    "tpr=[]\n",
    "for i in range(10):\n",
    "    p,r1,r2,f1,t1=RUNSCV()\n",
    "    precision.append(p)\n",
    "    recall.append(r1)\n",
    "    roc_auc.append(r2)\n",
    "    fpr.append(f1)\n",
    "    tpr.append(t1)\n",
    "    "
   ]
  },
  {
   "cell_type": "code",
   "execution_count": 354,
   "metadata": {},
   "outputs": [
    {
     "name": "stdout",
     "output_type": "stream",
     "text": [
      "Mean of precision is 0.5869047619047619 \n",
      "Standard Deviation of precision is 0.08287055511196931 \n",
      "Mean of recall is 0.2083167701863354 \n",
      "Standard Deviation of recall is 0.05566515035860571 \n"
     ]
    }
   ],
   "source": [
    "import statistics\n",
    "print(\"Mean of precision is % s \" % (statistics.mean(precision))) \n",
    "print(\"Standard Deviation of precision is % s \" % (statistics.stdev(precision)))\n",
    "print(\"Mean of recall is % s \" % (statistics.mean(recall))) \n",
    "print(\"Standard Deviation of recall is % s \" % (statistics.stdev(recall)))\n",
    "\n"
   ]
  },
  {
   "cell_type": "code",
   "execution_count": 362,
   "metadata": {},
   "outputs": [
    {
     "name": "stdout",
     "output_type": "stream",
     "text": [
      "[0.25, 0.24, 0.3181818181818182, 0.14814814814814814, 0.17391304347826086, 0.13043478260869565, 0.23809523809523808, 0.18181818181818182, 0.18518518518518517, 0.21739130434782608]\n"
     ]
    }
   ],
   "source": [
    "print(recall)"
   ]
  },
  {
   "cell_type": "code",
   "execution_count": 361,
   "metadata": {},
   "outputs": [
    {
     "data": {
      "image/png": "[encoded data removed]",
      "text/plain": [
       "<Figure size 432x288 with 1 Axes>"
      ]
     },
     "metadata": {},
     "output_type": "display_data"
    }
   ],
   "source": [
    "\n",
    "plt.figure()\n",
    "plt.plot(fpr, tpr, color='darkorange',lw=2)\n",
    "plt.plot([0, 1], [0, 1], color='navy', lw=2, linestyle='--')\n",
    "plt.xlim([0.0, 1.0])\n",
    "plt.ylim([0.0, 1.05])\n",
    "plt.xlabel('False Positive Rate')\n",
    "plt.ylabel('True Positive Rate')\n",
    "plt.title('Receiver operating characteristic example')\n",
    "plt.show()\n",
    "\n",
    "\n"
   ]
  },
  {
   "cell_type": "code",
   "execution_count": 346,
   "metadata": {},
   "outputs": [],
   "source": [
    "tfidf_vect_ngram = TfidfVectorizer(sublinear_tf=True,ngram_range=(1, 2),max_features=20000)\n",
    "tfidf_vect_ngram.fit(Xtrain)\n",
    "#np.append(Xtrain,Xvalid)\n",
    "xtrain_feature=features_generate(Xtrain)\n",
    "xvalid_feature=features_generate(Xvalid)\n",
    "#xtrain_feature.shape"
   ]
  },
  {
   "cell_type": "code",
   "execution_count": 347,
   "metadata": {},
   "outputs": [
    {
     "name": "stdout",
     "output_type": "stream",
     "text": [
      "accuracy\n",
      "0.990224032586558\n",
      "             precision    recall  f1-score   support\n",
      "\n",
      "          0       0.99      1.00      1.00      2432\n",
      "          1       0.44      0.17      0.25        23\n",
      "\n",
      "avg / total       0.99      0.99      0.99      2455\n",
      "\n"
     ]
    }
   ],
   "source": [
    "\n",
    "predictions=train_model(LinearSVC(C=0.4), xtrain_feature, Ytrain , xvalid_feature)\n",
    "check_results(predictions, Yvalid)"
   ]
  },
  {
   "cell_type": "code",
   "execution_count": 350,
   "metadata": {},
   "outputs": [
    {
     "data": {
      "text/plain": [
       "array([0.        , 0.00205592, 1.        ])"
      ]
     },
     "execution_count": 350,
     "metadata": {},
     "output_type": "execute_result"
    }
   ],
   "source": [
    "fpr"
   ]
  },
  {
   "cell_type": "code",
   "execution_count": 327,
   "metadata": {},
   "outputs": [
    {
     "data": {
      "image/png": "[encoded data removed]",
      "text/plain": [
       "<Figure size 432x288 with 1 Axes>"
      ]
     },
     "metadata": {},
     "output_type": "display_data"
    }
   ],
   "source": [
    "fpr, tpr, _ = roc_curve(Yvalid, predictions)\n",
    "roc_auc = auc(fpr, tpr)\n",
    "\n",
    "plt.figure()\n",
    "lw = 2\n",
    "plt.plot(fpr, tpr, color='darkorange',\n",
    "         lw=lw, label='ROC curve (area = %0.2f)' % roc_auc)\n",
    "plt.plot([0, 1], [0, 1], color='navy', lw=lw, linestyle='--')\n",
    "plt.xlim([0.0, 1.0])\n",
    "plt.ylim([0.0, 1.05])\n",
    "plt.xlabel('False Positive Rate')\n",
    "plt.ylabel('True Positive Rate')\n",
    "plt.title('Receiver operating characteristic example')\n",
    "plt.legend(loc=\"lower right\")\n",
    "plt.show()\n",
    "\n"
   ]
  },
  {
   "cell_type": "code",
   "execution_count": 6,
   "metadata": {},
   "outputs": [],
   "source": [
    "\n",
    "from sklearn.neural_network import MLPClassifier\n",
    "from sklearn.neighbors import KNeighborsClassifier\n",
    "from sklearn.svm import SVC\n",
    "from sklearn.gaussian_process import GaussianProcessClassifier\n",
    "from sklearn.gaussian_process.kernels import RBF\n",
    "from sklearn.ensemble import RandomForestClassifier\n",
    "from sklearn.naive_bayes import GaussianNB\n",
    "from sklearn.discriminant_analysis import QuadraticDiscriminantAnalysis\n",
    "\n",
    "\n",
    "\n",
    "classifiers = [\n",
    "    KNeighborsClassifier(),\n",
    "    SVC(gamma=2, C=1),\n",
    "    GaussianProcessClassifier(1.0 * RBF(1.0)),\n",
    "    RandomForestClassifier(max_depth=5, n_estimators=10, max_features=1),\n",
    "    MLPClassifier(alpha=1, max_iter=1000),\n",
    "    GaussianNB(),\n",
    "    QuadraticDiscriminantAnalysis()]\n",
    "\n",
    "def RUNSCV(classifiers,N) :\n",
    "    recall={}\n",
    "    for c in classifiers:\n",
    "        recall[c]=[]\n",
    "  \n",
    "    for i in range(N):\n",
    "        Xtrain,Xvalid,Ytrain,Yvalid=data_generate()\n",
    "        tfidf_vect_ngram = TfidfVectorizer(ngram_range=(1, 2),max_features=10000)\n",
    "        tfidf_vect_ngram.fit(Xtrain)\n",
    "        xtrain_feature=features_generate(Xtrain,tfidf_vect_ngram)\n",
    "        xvalid_feature=features_generate(Xvalid,tfidf_vect_ngram)\n",
    "        for c in classifiers:\n",
    "            preds=train_model(c, xtrain_feature, Ytrain , xvalid_feature)\n",
    "            recall[c].append(recall_score(Yvalid, preds,average=None)[1])\n",
    "        \n",
    "    return(recall)\n",
    "\n",
    "    "
   ]
  },
  {
   "cell_type": "code",
   "execution_count": null,
   "metadata": {},
   "outputs": [],
   "source": [
    "recall=RUNSCV(classifiers,5)"
   ]
  },
  {
   "cell_type": "code",
   "execution_count": null,
   "metadata": {},
   "outputs": [],
   "source": []
  },
  {
   "cell_type": "code",
   "execution_count": null,
   "metadata": {},
   "outputs": [],
   "source": []
  }
 ],
 "metadata": {
  "kernelspec": {
   "display_name": "Python 3",
   "language": "python",
   "name": "python3"
  },
  "language_info": {
   "codemirror_mode": {
    "name": "ipython",
    "version": 3
   },
   "file_extension": ".py",
   "mimetype": "text/x-python",
   "name": "python",
   "nbconvert_exporter": "python",
   "pygments_lexer": "ipython3",
   "version": "3.6.5"
  }
 },
 "nbformat": 4,
 "nbformat_minor": 2
}
