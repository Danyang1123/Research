{
 "cells": [
  {
   "cell_type": "code",
   "execution_count": null,
   "metadata": {},
   "outputs": [],
   "source": [
    "# use random over sampler to  resample training data (solve the problem of too skewed)"
   ]
  },
  {
   "cell_type": "code",
   "execution_count": 3,
   "metadata": {},
   "outputs": [
    {
     "name": "stderr",
     "output_type": "stream",
     "text": [
      "/anaconda3/lib/python3.6/site-packages/h5py/__init__.py:36: FutureWarning: Conversion of the second argument of issubdtype from `float` to `np.floating` is deprecated. In future, it will be treated as `np.float64 == np.dtype(float).type`.\n",
      "  from ._conv import register_converters as _register_converters\n",
      "Using TensorFlow backend.\n"
     ]
    }
   ],
   "source": [
    "from statistics import mean,stdev\n",
    "from nltk.stem import WordNetLemmatizer \n",
    "lemmatizer = WordNetLemmatizer() \n",
    "import matplotlib.pyplot as plt\n",
    "import os\n",
    "import csv\n",
    "import pandas as pd\n",
    "import random\n",
    "import numpy as np\n",
    "from sklearn.feature_extraction.text import TfidfVectorizer,TfidfTransformer\n",
    "from sklearn.metrics import accuracy_score, classification_report,roc_curve, auc,recall_score,precision_score,f1_score\n",
    "from sklearn.svm import LinearSVC\n",
    "from sklearn.feature_extraction.stop_words import ENGLISH_STOP_WORDS\n",
    "from nltk.corpus import stopwords\n",
    "import string\n",
    "import re\n",
    "STOPLIST = set(stopwords.words('english') + list(ENGLISH_STOP_WORDS))\n",
    "from nltk.stem.porter import *\n",
    "stemmer = PorterStemmer()\n",
    "filelist=os.listdir(\"/Users/veronica/Documents/research/standard\")[1:]\n",
    "path1 = \"/Users/veronica/Documents/research/standard\"\n",
    "from imblearn.over_sampling import RandomOverSampler"
   ]
  },
  {
   "cell_type": "code",
   "execution_count": 4,
   "metadata": {},
   "outputs": [],
   "source": [
    "def data_generate():\n",
    "    sub=random.sample(range(1, 186), 15)\n",
    "    frame1 = pd.DataFrame()\n",
    "    list1 = []\n",
    "    frame2 = pd.DataFrame()\n",
    "    list2 = []\n",
    "    for i in range(len(filelist)):\n",
    "        df = pd.read_csv(os.path.join(path1, filelist[i]),encoding = 'unicode_escape', usecols = ['Sentence-String','Q2'])\n",
    "        df['cleaned'] = df['Sentence-String'].apply(lambda x: \" \".join([lemmatizer.lemmatize(i) for i in x.split() if (str(i).isalpha() and i not in STOPLIST and len(i)>1)]).lower())\n",
    "        if i in sub:\n",
    "            list1.append(df)\n",
    "        else:\n",
    "            list2.append(df)\n",
    "    frame1 = pd.concat(list1)\n",
    "    frame2 = pd.concat(list2)\n",
    "    Xtrain = frame2['cleaned']\n",
    "    Xvalid = frame1['cleaned']\n",
    "    Yvalid = np.array(frame1['Q2']) \n",
    "    Ytrain = np.array(frame2['Q2'])\n",
    "    return(Xtrain,Xvalid,Ytrain,Yvalid)\n",
    "\n",
    "def features_generate(X,tfidf_vect_ngram):\n",
    "    x2=np.zeros(3)\n",
    "    for sent in X:\n",
    "        sents=\" \".join([stemmer.stem(i) for i in sent.split()])\n",
    "        flag=[]\n",
    "        if (\"random\" in sents or 'randomli'in sents):\n",
    "            flag.append(1)\n",
    "        else :\n",
    "            flag.append(0)\n",
    "        if (\"patient\" in sents or \"subject\" in sents) and (\"random\" in sents or 'randomli'in sents):\n",
    "            flag.append(1)\n",
    "        else :\n",
    "            flag.append(0)\n",
    "        if ('alloc' in sents or \"assign\" in sents or 'gener' in sents) and (\"random\" in sents or 'randomli'in sents):\n",
    "            flag.append(1)\n",
    "        else :\n",
    "            flag.append(0)\n",
    "        x1 = np.array(flag)\n",
    "        x2 = np.row_stack([x2,x1])\n",
    "    x_tfidf =  tfidf_vect_ngram.transform(X)\n",
    "    feature=np.delete(x2, 0, 0)\n",
    "    x_features=np.c_[x_tfidf.toarray(),feature]\n",
    "    return x_features \n",
    "\n",
    "def train_model(classifier, feature_vector_train, label, feature_vector_valid):\n",
    "    # fit the training dataset on the classifier\n",
    "    classifier.fit(feature_vector_train, label)\n",
    "    \n",
    "    # predict the labels on validation dataset\n",
    "    predictions = classifier.predict(feature_vector_valid)\n",
    "\n",
    "    return predictions"
   ]
  },
  {
   "cell_type": "code",
   "execution_count": 63,
   "metadata": {},
   "outputs": [],
   "source": [
    "Xtrain,Xvalid,Ytrain,Yvalid=data_generate()\n",
    "tfidf_vect_ngram = TfidfVectorizer(ngram_range=(1, 2),max_features=10000)\n",
    "tfidf_vect_ngram.fit(Xtrain)\n",
    "xtrain_feature=features_generate(Xtrain,tfidf_vect_ngram)\n",
    "xvalid_feature=features_generate(Xvalid,tfidf_vect_ngram)"
   ]
  },
  {
   "cell_type": "code",
   "execution_count": 66,
   "metadata": {},
   "outputs": [],
   "source": [
    "rus =  RandomOverSampler()\n",
    "X_res, y_res = rus.fit_sample(xtrain_feature, Ytrain)\n",
    "preds=train_model(LinearSVC(C=0.4), X_res, y_res , xvalid_feature)"
   ]
  },
  {
   "cell_type": "code",
   "execution_count": 54,
   "metadata": {},
   "outputs": [
    {
     "data": {
      "text/plain": [
       "57112"
      ]
     },
     "execution_count": 54,
     "metadata": {},
     "output_type": "execute_result"
    }
   ],
   "source": [
    "len(X_res)"
   ]
  },
  {
   "cell_type": "code",
   "execution_count": 65,
   "metadata": {},
   "outputs": [
    {
     "name": "stdout",
     "output_type": "stream",
     "text": [
      "             precision    recall  f1-score   support\n",
      "\n",
      "          0       1.00      0.99      0.99      2362\n",
      "          1       0.30      0.54      0.38        24\n",
      "\n",
      "avg / total       0.99      0.98      0.98      2386\n",
      "\n"
     ]
    }
   ],
   "source": [
    "print(classification_report(Yvalid,preds))"
   ]
  },
  {
   "cell_type": "code",
   "execution_count": null,
   "metadata": {},
   "outputs": [],
   "source": []
  },
  {
   "cell_type": "code",
   "execution_count": null,
   "metadata": {},
   "outputs": [],
   "source": []
  },
  {
   "cell_type": "code",
   "execution_count": 41,
   "metadata": {},
   "outputs": [],
   "source": [
    "def RUNSCV(x) :\n",
    "    recall={}\n",
    "    precision={}\n",
    "    f1={}\n",
    "    for i in x:\n",
    "        recall[i]=[]\n",
    "        precision[i]=[]\n",
    "        f1[i]=[]\n",
    "        \n",
    "    tfidf_vect_ngram = TfidfVectorizer(ngram_range=(1, 2),max_features=10000)\n",
    "    for k in range(10):\n",
    "        Xtrain,Xvalid,Ytrain,Yvalid=data_generate()\n",
    "        tfidf_vect_ngram.fit(Xtrain)\n",
    "        xtrain_feature=features_generate(Xtrain,tfidf_vect_ngram)\n",
    "        xvalid_feature=features_generate(Xvalid,tfidf_vect_ngram)\n",
    "        for i in x:\n",
    "            rus =  RandomOverSampler(i)\n",
    "            X_res, y_res= rus.fit_sample(xtrain_feature, Ytrain)\n",
    "            preds=train_model(LinearSVC(C=0.4), X_res, y_res , xvalid_feature)\n",
    "            recall[i].append(recall_score(Yvalid, preds,average=None)[1])\n",
    "            precision[i].append(precision_score(Yvalid, preds,average=None)[1])\n",
    "            f1[i].append(f1_score(Yvalid, preds,average=None)[1])\n",
    "    mrecall=[]\n",
    "    mprecision=[]\n",
    "    mf1=[]\n",
    "    for i in x:\n",
    "        mrecall.append(mean(recall[i]))\n",
    "        mprecision.append(mean(precision[i]))\n",
    "        mf1.append(mean(f1[i]))\n",
    "    return(mprecision,mrecall,mf1)"
   ]
  },
  {
   "cell_type": "code",
   "execution_count": 51,
   "metadata": {},
   "outputs": [
    {
     "data": {
      "image/png": "[encoded data removed]",
      "text/plain": [
       "<Figure size 432x288 with 1 Axes>"
      ]
     },
     "metadata": {},
     "output_type": "display_data"
    }
   ],
   "source": [
    "# choose the parameter for RandomOverSampler(i)\n",
    "x=[0.1,0.2,0.3,'not majority']\n",
    "mprecision,mrecall,mf1=RUNSCV(x) \n",
    "plt.plot(x,mprecision,label=\"precision\")\n",
    "plt.plot(x,mrecall,\"r\",label=\"recall\") \n",
    "plt.plot(x,mf1,\"g\",label=\"f1_score\") \n",
    "plt.legend()\n",
    "plt.show()"
   ]
  },
  {
   "cell_type": "code",
   "execution_count": null,
   "metadata": {},
   "outputs": [],
   "source": []
  },
  {
   "cell_type": "code",
   "execution_count": 6,
   "metadata": {},
   "outputs": [],
   "source": [
    "##\n",
    "from sklearn.neural_network import MLPClassifier\n",
    "from sklearn.naive_bayes import MultinomialNB\n",
    "from sklearn.neighbors import KNeighborsClassifier\n",
    "from sklearn.svm import SVC\n",
    "from sklearn.tree import DecisionTreeClassifier\n",
    "from sklearn.discriminant_analysis import QuadraticDiscriminantAnalysis\n",
    "from sklearn.linear_model import LogisticRegression \n",
    "names=[\"DecisionTree\",\"MultinomialNB\",\"LogisticRegression\",\"LinearSVC\",\"MLPClassifier\"]\n",
    "classifiers = [\n",
    "    DecisionTreeClassifier(),\n",
    "    MultinomialNB(),\n",
    "    LogisticRegression(),\n",
    "    LinearSVC(C=0.4),\n",
    "    MLPClassifier()\n",
    "    ]\n",
    "def RUN_classifiers(classifiers,N) :\n",
    "    tfidf_vect_ngram = TfidfVectorizer(ngram_range=(1, 2),max_features=10000)\n",
    "    rus =  RandomOverSampler(0.1)\n",
    "    recall={}\n",
    "    precision={}\n",
    "    f1={}\n",
    "    for c in classifiers:\n",
    "        recall[c]=[]\n",
    "        precision[c]=[]\n",
    "        f1[c]=[]\n",
    "  \n",
    "    for i in range(N):\n",
    "        Xtrain,Xvalid,Ytrain,Yvalid=data_generate()\n",
    "        tfidf_vect_ngram.fit(Xtrain)\n",
    "        xtrain_feature=features_generate(Xtrain,tfidf_vect_ngram)\n",
    "        xvalid_feature=features_generate(Xvalid,tfidf_vect_ngram)\n",
    "        X_res, y_res= rus.fit_sample(xtrain_feature, Ytrain)\n",
    "            \n",
    "        for c in classifiers:\n",
    "            preds=train_model(c, X_res, y_res , xvalid_feature)\n",
    "            recall[c].append(recall_score(Yvalid, preds,average=None)[1])\n",
    "            precision[c].append(precision_score(Yvalid, preds,average=None)[1])\n",
    "            f1[c].append(f1_score(Yvalid, preds,average=None)[1])\n",
    "            \n",
    "    mrecall=[]\n",
    "    mprecision=[]\n",
    "    mf1=[]\n",
    "    for c in classifiers:\n",
    "        mrecall.append(mean(recall[c]))\n",
    "        mprecision.append(mean(precision[c]))\n",
    "        mf1.append(mean(f1[c]))\n",
    "    \n",
    "    return(mprecision,mrecall,mf1)\n",
    "\n",
    "\n"
   ]
  },
  {
   "cell_type": "code",
   "execution_count": null,
   "metadata": {},
   "outputs": [],
   "source": [
    "mprecision,mrecall,mf1=RUN_classifiers(classifiers,5)\n",
    "\n",
    "plt.plot(names,mprecision,label=\"precision\")\n",
    "plt.plot(names,mrecall,\"r\",label=\"recall\") \n",
    "plt.plot(names,mf1,\"g\",label=\"f1_score\") \n",
    "plt.annotate(round(max(mf1),3), xy=(names[np.argmax(mf1)], max(mf1)))\n",
    "plt.legend()\n",
    "plt.show()"
   ]
  },
  {
   "cell_type": "code",
   "execution_count": 5,
   "metadata": {},
   "outputs": [],
   "source": [
    "import timeit\n",
    "from sklearn.neural_network import MLPClassifier\n",
    "from sklearn.gaussian_process import GaussianProcessClassifier\n",
    "from sklearn.gaussian_process.kernels import RBF\n",
    "from sklearn.ensemble import RandomForestClassifier\n",
    "from sklearn.naive_bayes import MultinomialNB\n",
    "from sklearn.neighbors import KNeighborsClassifier\n",
    "from sklearn.svm import SVC\n",
    "from sklearn.tree import DecisionTreeClassifier\n",
    "from sklearn.discriminant_analysis import QuadraticDiscriminantAnalysis\n",
    "from sklearn.linear_model import LogisticRegression \n",
    "\n",
    "\n",
    "classifiers = [\n",
    "    MLPClassifier(),\n",
    "    KNeighborsClassifier(3),\n",
    "    SVC()\n",
    "    ]\n",
    "def RUN_classifiers(classifiers) :\n",
    "    recall=[]\n",
    "    precision=[]\n",
    "    f1=[]\n",
    "    tfidf_vect_ngram = TfidfVectorizer(ngram_range=(1, 2),max_features=10000)\n",
    "    rus =  RandomOverSampler(0.1)\n",
    "    Xtrain,Xvalid,Ytrain,Yvalid=data_generate()\n",
    "    tfidf_vect_ngram.fit(Xtrain)\n",
    "    xtrain_feature=features_generate(Xtrain,tfidf_vect_ngram)\n",
    "    xvalid_feature=features_generate(Xvalid,tfidf_vect_ngram)\n",
    "    X_res, y_res= rus.fit_sample(xtrain_feature, Ytrain)\n",
    "    for c in classifiers:\n",
    "        start = timeit.default_timer()\n",
    "        preds=train_model(c, X_res, y_res , xvalid_feature)\n",
    "    \n",
    "        print('Time: ', timeit.default_timer() - start)      \n",
    "        print('precision:',precision_score(Yvalid, preds,average=None)[1],\n",
    "              'recall:',recall_score(Yvalid, preds,average=None)[1],\"f1:\",f1_score(Yvalid, preds,average=None)[1])\n",
    "    \n",
    "    return(precision,recall,f1)\n"
   ]
  },
  {
   "cell_type": "code",
   "execution_count": null,
   "metadata": {},
   "outputs": [
    {
     "name": "stdout",
     "output_type": "stream",
     "text": [
      "Time:  243.55711234300543\n",
      "precision: 0.375 recall: 0.45 f1: 0.4090909090909091\n"
     ]
    }
   ],
   "source": [
    "precision,recall,f1=RUN_classifiers(classifiers) "
   ]
  },
  {
   "cell_type": "code",
   "execution_count": null,
   "metadata": {},
   "outputs": [],
   "source": [
    "\n",
    "from sklearn.neighbors import KNeighborsClassifier\n",
    "from sklearn.svm import SVC\n",
    "from sklearn.tree import DecisionTreeClassifier\n",
    "from sklearn.discriminant_analysis import QuadraticDiscriminantAnalysis\n",
    "\n",
    "h = .02  # step size in the mesh\n",
    "\n",
    "\n",
    "classifiers = [\n",
    "    KNeighborsClassifier(3),\n",
    "    SVC(kernel=\"linear\", C=0.025),\n",
    "    SVC(gamma=2, C=1),\n",
    "    DecisionTreeClassifier(max_depth=5),\n",
    "    QuadraticDiscriminantAnalysis()]"
   ]
  }
 ],
 "metadata": {
  "kernelspec": {
   "display_name": "Python 3",
   "language": "python",
   "name": "python3"
  },
  "language_info": {
   "codemirror_mode": {
    "name": "ipython",
    "version": 3
   },
   "file_extension": ".py",
   "mimetype": "text/x-python",
   "name": "python",
   "nbconvert_exporter": "python",
   "pygments_lexer": "ipython3",
   "version": "3.6.5"
  }
 },
 "nbformat": 4,
 "nbformat_minor": 2
}
